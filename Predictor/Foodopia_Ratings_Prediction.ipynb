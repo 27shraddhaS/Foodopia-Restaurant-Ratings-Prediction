{
 "cells": [
  {
   "cell_type": "markdown",
   "metadata": {},
   "source": [
    "# Foodopia: An application to predict Restaurant Ratings and facilitate owners to make wise inversments\n",
    "\n"
   ]
  },
  {
   "cell_type": "code",
   "execution_count": 6,
   "metadata": {},
   "outputs": [],
   "source": [
    "import numpy as np\n",
    "import pandas as pd\n",
    "import matplotlib.pyplot as plt\n",
    "import dash\n",
    "from dash import dcc\n",
    "import dash_core_components as dcc\n",
    "import dash_html_components as html\n",
    "from dash.dependencies import Output,Input,State\n",
    "import plotly.graph_objects as go\n",
    "from sklearn import linear_model"
   ]
  },
  {
   "cell_type": "code",
   "execution_count": 8,
   "metadata": {},
   "outputs": [],
   "source": [
    "data=pd.read_csv('zomato.csv')\n",
    "df1=pd.read_csv('zomato.csv')"
   ]
  },
  {
   "cell_type": "markdown",
   "metadata": {},
   "source": [
    "## Exploratory Data Analysis\n",
    "\n",
    "### Analyzing the data and cleaning it droping unnecesary columns, converting the string values uppercase for easy of training, modeling the data by handling missing values, Null values, dropping duplicates and string manipulation. Converting the anomalies to Nan and Imputing the missing values as required."
   ]
  },
  {
   "cell_type": "code",
   "execution_count": 9,
   "metadata": {},
   "outputs": [
    {
     "data": {
      "text/plain": [
       "(51717, 17)"
      ]
     },
     "execution_count": 9,
     "metadata": {},
     "output_type": "execute_result"
    }
   ],
   "source": [
    "df1.shape"
   ]
  },
  {
   "cell_type": "code",
   "execution_count": 10,
   "metadata": {},
   "outputs": [
    {
     "data": {
      "text/plain": [
       "51717"
      ]
     },
     "execution_count": 10,
     "metadata": {},
     "output_type": "execute_result"
    }
   ],
   "source": [
    "ho=list(data.shape)\n",
    "t1=ho[0]\n",
    "t1"
   ]
  },
  {
   "cell_type": "code",
   "execution_count": 11,
   "metadata": {},
   "outputs": [],
   "source": [
    "#Dashboard to search for restaurant According To Their Name,location,rating,cost for two.\n",
    "\n",
    "# display  \n",
    "data['name'] = data['name'].str.upper()\n",
    "\n",
    "location=['Banashankari', 'Basavanagudi', 'Jayanagar', 'Kumaraswamy Layout',\n",
    "       'Rajarajeshwari Nagar', 'Mysore Road', 'Uttarahalli',\n",
    "       'South Bangalore', 'Vijay Nagar', 'Bannerghatta Road', 'JP Nagar',\n",
    "       'BTM', 'Wilson Garden', 'Koramangala 5th Block', 'Shanti Nagar',\n",
    "       'Richmond Road', 'City Market', 'Bellandur', 'Sarjapur Road',\n",
    "       'Marathahalli', 'HSR', 'Old Airport Road', 'Indiranagar',\n",
    "       'Koramangala 1st Block', 'East Bangalore', 'MG Road',\n",
    "       'Brigade Road', 'Lavelle Road', 'Church Street', 'Ulsoor',\n",
    "       'Residency Road', 'Shivajinagar', 'Infantry Road',\n",
    "       'St. Marks Road', 'Cunningham Road', 'Race Course Road', 'Domlur',\n",
    "       'Koramangala 8th Block', 'Frazer Town', 'Ejipura', 'Vasanth Nagar',\n",
    "       'Jeevan Bhima Nagar', 'Old Madras Road', 'Commercial Street',\n",
    "       'Koramangala 6th Block', 'Majestic', 'Langford Town',\n",
    "       'Koramangala 7th Block', 'Brookefield', 'Whitefield',\n",
    "       'ITPL Main Road, Whitefield', 'Varthur Main Road, Whitefield',\n",
    "       'Koramangala 2nd Block', 'Koramangala 3rd Block',\n",
    "       'Koramangala 4th Block', 'Koramangala', 'Bommanahalli',\n",
    "       'Hosur Road', 'Seshadripuram', 'Electronic City', 'Banaswadi',\n",
    "       'North Bangalore', 'RT Nagar', 'Kammanahalli', 'Hennur',\n",
    "       'HBR Layout', 'Kalyan Nagar', 'Thippasandra', 'CV Raman Nagar',\n",
    "       'Kaggadasapura', 'Kanakapura Road', 'Nagawara', 'Rammurthy Nagar',\n",
    "       'Sankey Road', 'Central Bangalore', 'Malleshwaram',\n",
    "       'Sadashiv Nagar', 'Basaveshwara Nagar', 'Rajajinagar',\n",
    "       'New BEL Road', 'West Bangalore', 'Yeshwantpur', 'Sanjay Nagar',\n",
    "       'Sahakara Nagar', 'Jalahalli', 'Yelahanka', 'Magadi Road',\n",
    "       'KR Puram']\n",
    "location.sort()"
   ]
  },
  {
   "cell_type": "code",
   "execution_count": 12,
   "metadata": {},
   "outputs": [],
   "source": [
    "li=list(data.online_order.value_counts())"
   ]
  },
  {
   "cell_type": "code",
   "execution_count": 13,
   "metadata": {
    "scrolled": true
   },
   "outputs": [
    {
     "data": {
      "text/plain": [
       "[30444, 21273]"
      ]
     },
     "execution_count": 13,
     "metadata": {},
     "output_type": "execute_result"
    }
   ],
   "source": [
    "li"
   ]
  },
  {
   "cell_type": "code",
   "execution_count": 14,
   "metadata": {},
   "outputs": [
    {
     "data": {
      "text/plain": [
       "30444"
      ]
     },
     "execution_count": 14,
     "metadata": {},
     "output_type": "execute_result"
    }
   ],
   "source": [
    "t2=li[0]\n",
    "t2"
   ]
  },
  {
   "cell_type": "code",
   "execution_count": 15,
   "metadata": {},
   "outputs": [],
   "source": [
    "li2=list(data['book_table'].value_counts())"
   ]
  },
  {
   "cell_type": "code",
   "execution_count": 16,
   "metadata": {},
   "outputs": [
    {
     "data": {
      "text/plain": [
       "[45268, 6449]"
      ]
     },
     "execution_count": 16,
     "metadata": {},
     "output_type": "execute_result"
    }
   ],
   "source": [
    "li2"
   ]
  },
  {
   "cell_type": "code",
   "execution_count": 17,
   "metadata": {},
   "outputs": [
    {
     "data": {
      "text/plain": [
       "93"
      ]
     },
     "execution_count": 17,
     "metadata": {},
     "output_type": "execute_result"
    }
   ],
   "source": [
    "li=list(data.location.value_counts())\n",
    "t4=len(li)\n",
    "t4"
   ]
  },
  {
   "cell_type": "code",
   "execution_count": 18,
   "metadata": {},
   "outputs": [],
   "source": [
    "data['rate'] = data['rate'].replace('NEW',np.NaN)\n",
    "data['rate'] = data['rate'].replace('-',np.NaN)\n",
    "data.dropna(how = 'any', inplace = True)\n",
    "#*************************************************************************\n",
    "df1['rate'] = df1['rate'].replace('NEW',np.NaN)\n",
    "df1['rate'] = df1['rate'].replace('-',np.NaN)\n",
    "df1.dropna(how = 'any', inplace = True)"
   ]
  },
  {
   "cell_type": "code",
   "execution_count": 19,
   "metadata": {
    "scrolled": true
   },
   "outputs": [],
   "source": [
    "data['rate'] = data.loc[:,'rate'].replace('[ ]','',regex = True)\n",
    "data['rate'] = data['rate'].astype(str)\n",
    "data['rate'] = data['rate'].apply(lambda r: r.replace('/5',''))\n",
    "data['rate'] = data['rate'].apply(lambda r: float(r))\n",
    "#******************************************************************************\n",
    "df1['rate'] = df1.loc[:,'rate'].replace('[ ]','',regex = True)\n",
    "df1['rate'] = df1['rate'].astype(str)\n",
    "df1['rate'] = df1['rate'].apply(lambda r: r.replace('/5',''))\n",
    "df1['rate'] = df1['rate'].apply(lambda r: float(r))\n",
    "\n",
    "#Conversion of Cost from String to Integer\n",
    "data['approx_cost(for two people)'] = data['approx_cost(for two people)'].str.replace(',','')\n",
    "data['approx_cost(for two people)'] = data['approx_cost(for two people)'].astype(int)\n",
    "#**********************************************************************\n",
    "df1['approx_cost(for two people)'] = df1['approx_cost(for two people)'].str.replace(',','')\n",
    "df1['approx_cost(for two people)'] = df1['approx_cost(for two people)'].astype(int)"
   ]
  },
  {
   "cell_type": "code",
   "execution_count": 20,
   "metadata": {},
   "outputs": [
    {
     "data": {
      "text/plain": [
       "Index(['url', 'address', 'name', 'online_order', 'book_table', 'rate', 'votes',\n",
       "       'phone', 'location', 'rest_type', 'dish_liked', 'cuisines',\n",
       "       'approx_cost(for two people)', 'reviews_list', 'menu_item',\n",
       "       'listed_in(type)', 'listed_in(city)'],\n",
       "      dtype='object')"
      ]
     },
     "execution_count": 20,
     "metadata": {},
     "output_type": "execute_result"
    }
   ],
   "source": [
    "data.columns"
   ]
  },
  {
   "cell_type": "code",
   "execution_count": 21,
   "metadata": {},
   "outputs": [],
   "source": [
    "df1.drop(columns=['url', 'address','phone','listed_in(city)','online_order','book_table','votes','dish_liked','cuisines','reviews_list','menu_item','listed_in(type)'], inplace  =True)"
   ]
  },
  {
   "cell_type": "code",
   "execution_count": 22,
   "metadata": {},
   "outputs": [],
   "source": [
    "df1.rename(columns={'approx_cost(for two people)': 'app_cost'}, inplace=True)\n",
    "\n",
    "data.rename(columns={'approx_cost(for two people)': 'app_cost'}, inplace=True)"
   ]
  },
  {
   "cell_type": "code",
   "execution_count": 23,
   "metadata": {},
   "outputs": [
    {
     "data": {
      "text/plain": [
       "Casual Dining        7298\n",
       "Bites Quick          5224\n",
       "Cafe                 2321\n",
       "Bar Casual Dining    1308\n",
       "Dessert Parlor       1074\n",
       "Name: rest_type, dtype: int64"
      ]
     },
     "execution_count": 23,
     "metadata": {},
     "output_type": "execute_result"
    }
   ],
   "source": [
    "data['rest_type'] = data['rest_type'].str.replace(',' , '') \n",
    "data['rest_type'] = data['rest_type'].astype(str).apply(lambda x: ' '.join(sorted(x.split())))\n",
    "#data['rest_type'].value_counts().head()\n",
    "#********************************************************\n",
    "df1['rest_type'] = df1['rest_type'].str.replace(',' , '') \n",
    "df1['rest_type'] = df1['rest_type'].astype(str).apply(lambda x: ' '.join(sorted(x.split())))\n",
    "df1['rest_type'].value_counts().head()"
   ]
  },
  {
   "cell_type": "code",
   "execution_count": 24,
   "metadata": {},
   "outputs": [],
   "source": [
    "data.drop_duplicates(subset=['name','location'],inplace=True)"
   ]
  },
  {
   "cell_type": "markdown",
   "metadata": {},
   "source": [
    "## Preprocessing Data with Label Encoder"
   ]
  },
  {
   "cell_type": "code",
   "execution_count": 25,
   "metadata": {},
   "outputs": [],
   "source": [
    "#ml\n",
    "from sklearn.preprocessing import LabelEncoder\n",
    "T = LabelEncoder()                 \n",
    "df1['location'] = T.fit_transform(df1['location'])\n",
    "df1['rest_type'] = T.fit_transform(df1['rest_type'])"
   ]
  },
  {
   "cell_type": "markdown",
   "metadata": {},
   "source": [
    "## Fitting Machine Learning model\n",
    "\n",
    "#### Experimenting with different machine learning models to evaluate their performance and find the best model with high accuracy with low bias and loss.\n",
    "\n",
    "\n",
    "### Linear Regression"
   ]
  },
  {
   "cell_type": "code",
   "execution_count": 26,
   "metadata": {},
   "outputs": [
    {
     "data": {
      "text/html": [
       "<style>#sk-container-id-1 {color: black;background-color: white;}#sk-container-id-1 pre{padding: 0;}#sk-container-id-1 div.sk-toggleable {background-color: white;}#sk-container-id-1 label.sk-toggleable__label {cursor: pointer;display: block;width: 100%;margin-bottom: 0;padding: 0.3em;box-sizing: border-box;text-align: center;}#sk-container-id-1 label.sk-toggleable__label-arrow:before {content: \"▸\";float: left;margin-right: 0.25em;color: #696969;}#sk-container-id-1 label.sk-toggleable__label-arrow:hover:before {color: black;}#sk-container-id-1 div.sk-estimator:hover label.sk-toggleable__label-arrow:before {color: black;}#sk-container-id-1 div.sk-toggleable__content {max-height: 0;max-width: 0;overflow: hidden;text-align: left;background-color: #f0f8ff;}#sk-container-id-1 div.sk-toggleable__content pre {margin: 0.2em;color: black;border-radius: 0.25em;background-color: #f0f8ff;}#sk-container-id-1 input.sk-toggleable__control:checked~div.sk-toggleable__content {max-height: 200px;max-width: 100%;overflow: auto;}#sk-container-id-1 input.sk-toggleable__control:checked~label.sk-toggleable__label-arrow:before {content: \"▾\";}#sk-container-id-1 div.sk-estimator input.sk-toggleable__control:checked~label.sk-toggleable__label {background-color: #d4ebff;}#sk-container-id-1 div.sk-label input.sk-toggleable__control:checked~label.sk-toggleable__label {background-color: #d4ebff;}#sk-container-id-1 input.sk-hidden--visually {border: 0;clip: rect(1px 1px 1px 1px);clip: rect(1px, 1px, 1px, 1px);height: 1px;margin: -1px;overflow: hidden;padding: 0;position: absolute;width: 1px;}#sk-container-id-1 div.sk-estimator {font-family: monospace;background-color: #f0f8ff;border: 1px dotted black;border-radius: 0.25em;box-sizing: border-box;margin-bottom: 0.5em;}#sk-container-id-1 div.sk-estimator:hover {background-color: #d4ebff;}#sk-container-id-1 div.sk-parallel-item::after {content: \"\";width: 100%;border-bottom: 1px solid gray;flex-grow: 1;}#sk-container-id-1 div.sk-label:hover label.sk-toggleable__label {background-color: #d4ebff;}#sk-container-id-1 div.sk-serial::before {content: \"\";position: absolute;border-left: 1px solid gray;box-sizing: border-box;top: 0;bottom: 0;left: 50%;z-index: 0;}#sk-container-id-1 div.sk-serial {display: flex;flex-direction: column;align-items: center;background-color: white;padding-right: 0.2em;padding-left: 0.2em;position: relative;}#sk-container-id-1 div.sk-item {position: relative;z-index: 1;}#sk-container-id-1 div.sk-parallel {display: flex;align-items: stretch;justify-content: center;background-color: white;position: relative;}#sk-container-id-1 div.sk-item::before, #sk-container-id-1 div.sk-parallel-item::before {content: \"\";position: absolute;border-left: 1px solid gray;box-sizing: border-box;top: 0;bottom: 0;left: 50%;z-index: -1;}#sk-container-id-1 div.sk-parallel-item {display: flex;flex-direction: column;z-index: 1;position: relative;background-color: white;}#sk-container-id-1 div.sk-parallel-item:first-child::after {align-self: flex-end;width: 50%;}#sk-container-id-1 div.sk-parallel-item:last-child::after {align-self: flex-start;width: 50%;}#sk-container-id-1 div.sk-parallel-item:only-child::after {width: 0;}#sk-container-id-1 div.sk-dashed-wrapped {border: 1px dashed gray;margin: 0 0.4em 0.5em 0.4em;box-sizing: border-box;padding-bottom: 0.4em;background-color: white;}#sk-container-id-1 div.sk-label label {font-family: monospace;font-weight: bold;display: inline-block;line-height: 1.2em;}#sk-container-id-1 div.sk-label-container {text-align: center;}#sk-container-id-1 div.sk-container {/* jupyter's `normalize.less` sets `[hidden] { display: none; }` but bootstrap.min.css set `[hidden] { display: none !important; }` so we also need the `!important` here to be able to override the default hidden behavior on the sphinx rendered scikit-learn.org. See: https://github.com/scikit-learn/scikit-learn/issues/21755 */display: inline-block !important;position: relative;}#sk-container-id-1 div.sk-text-repr-fallback {display: none;}</style><div id=\"sk-container-id-1\" class=\"sk-top-container\"><div class=\"sk-text-repr-fallback\"><pre>LinearRegression()</pre><b>In a Jupyter environment, please rerun this cell to show the HTML representation or trust the notebook. <br />On GitHub, the HTML representation is unable to render, please try loading this page with nbviewer.org.</b></div><div class=\"sk-container\" hidden><div class=\"sk-item\"><div class=\"sk-estimator sk-toggleable\"><input class=\"sk-toggleable__control sk-hidden--visually\" id=\"sk-estimator-id-1\" type=\"checkbox\" checked><label for=\"sk-estimator-id-1\" class=\"sk-toggleable__label sk-toggleable__label-arrow\">LinearRegression</label><div class=\"sk-toggleable__content\"><pre>LinearRegression()</pre></div></div></div></div></div>"
      ],
      "text/plain": [
       "LinearRegression()"
      ]
     },
     "execution_count": 26,
     "metadata": {},
     "output_type": "execute_result"
    }
   ],
   "source": [
    "#LR\n",
    "X=df1[['location','rest_type','app_cost']]\n",
    "y=df1['rate']\n",
    "reg = linear_model.LinearRegression()\n",
    "reg.fit(X,y)\n"
   ]
  },
  {
   "cell_type": "code",
   "execution_count": 27,
   "metadata": {},
   "outputs": [
    {
     "data": {
      "text/plain": [
       "array([ 0.00095527, -0.00126883,  0.00025265])"
      ]
     },
     "execution_count": 27,
     "metadata": {},
     "output_type": "execute_result"
    }
   ],
   "source": [
    "reg.coef_"
   ]
  },
  {
   "cell_type": "code",
   "execution_count": 28,
   "metadata": {},
   "outputs": [
    {
     "data": {
      "text/plain": [
       "3.711060826168427"
      ]
     },
     "execution_count": 28,
     "metadata": {},
     "output_type": "execute_result"
    }
   ],
   "source": [
    "reg.intercept_"
   ]
  },
  {
   "cell_type": "code",
   "execution_count": 29,
   "metadata": {},
   "outputs": [
    {
     "name": "stderr",
     "output_type": "stream",
     "text": [
      "/Users/shraddhashekhar/opt/anaconda3/lib/python3.9/site-packages/sklearn/base.py:450: UserWarning:\n",
      "\n",
      "X does not have valid feature names, but LinearRegression was fitted with feature names\n",
      "\n"
     ]
    },
    {
     "data": {
      "text/plain": [
       "array([3.71317286])"
      ]
     },
     "execution_count": 29,
     "metadata": {},
     "output_type": "execute_result"
    }
   ],
   "source": [
    "reg.predict([[1,19,100]])"
   ]
  },
  {
   "cell_type": "code",
   "execution_count": 30,
   "metadata": {},
   "outputs": [],
   "source": [
    "#reg.score(X,y)*100"
   ]
  },
  {
   "cell_type": "code",
   "execution_count": 31,
   "metadata": {},
   "outputs": [
    {
     "data": {
      "text/plain": [
       "array([4.08977378, 3.92655097, 3.85291681, ..., 4.50485833, 3.7       ,\n",
       "       4.40326222])"
      ]
     },
     "execution_count": 31,
     "metadata": {},
     "output_type": "execute_result"
    }
   ],
   "source": [
    "#randomForestRegression\n",
    "X=df1.drop(['rate','name'],axis=1)\n",
    "y=df1['rate']\n",
    "from sklearn.model_selection import train_test_split\n",
    "X_train,X_test,y_train,y_test = train_test_split(X,y,test_size=0.2,random_state=8)\n",
    "from sklearn import metrics\n",
    "from sklearn.metrics import mean_squared_error,accuracy_score\n",
    "from sklearn.ensemble import RandomForestRegressor\n",
    "rfr=RandomForestRegressor()\n",
    "rfr.fit(X_train,y_train)\n",
    "yprd=rfr.predict(X_test)\n",
    "\n",
    "yprd\n"
   ]
  },
  {
   "cell_type": "code",
   "execution_count": 32,
   "metadata": {},
   "outputs": [
    {
     "data": {
      "text/plain": [
       "65.34088961454174"
      ]
     },
     "execution_count": 32,
     "metadata": {},
     "output_type": "execute_result"
    }
   ],
   "source": [
    "rfr.score(X_test,y_test)*100\n"
   ]
  },
  {
   "cell_type": "code",
   "execution_count": 33,
   "metadata": {},
   "outputs": [
    {
     "data": {
      "text/plain": [
       "0.6534392121716681"
      ]
     },
     "execution_count": 33,
     "metadata": {},
     "output_type": "execute_result"
    }
   ],
   "source": [
    "metrics.explained_variance_score(y_test,yprd)"
   ]
  },
  {
   "cell_type": "code",
   "execution_count": 34,
   "metadata": {},
   "outputs": [
    {
     "data": {
      "text/plain": [
       "0.06665954763386206"
      ]
     },
     "execution_count": 34,
     "metadata": {},
     "output_type": "execute_result"
    }
   ],
   "source": [
    "mean_squared_error(y_test,yprd)"
   ]
  },
  {
   "cell_type": "code",
   "execution_count": 35,
   "metadata": {},
   "outputs": [],
   "source": [
    "#accuracy_score(y_test,yprd,normalize=False)"
   ]
  },
  {
   "cell_type": "code",
   "execution_count": 36,
   "metadata": {},
   "outputs": [
    {
     "data": {
      "text/plain": [
       "array([4.1, 4.1, 3.8, ..., 2.5, 3.8, 2.5])"
      ]
     },
     "execution_count": 36,
     "metadata": {},
     "output_type": "execute_result"
    }
   ],
   "source": [
    "rate=list(data['rate'])\n",
    "ratearr=np.array(rate)\n",
    "ratearr"
   ]
  },
  {
   "cell_type": "code",
   "execution_count": 37,
   "metadata": {},
   "outputs": [
    {
     "data": {
      "text/plain": [
       "[187, 1814, 1872, 344, 249, 41, 1, 0, 0]"
      ]
     },
     "execution_count": 37,
     "metadata": {},
     "output_type": "execute_result"
    }
   ],
   "source": [
    "exe,vgood,good,fine,ok,nor,poor,bad,worst=0,0,0,0,0,0,0,0,0\n",
    "for i in ratearr:\n",
    "    if i>=4.5:\n",
    "        exe+=1\n",
    "    if i>=4 and i<4.5:\n",
    "        vgood+=1\n",
    "    if i>=3.5 and i<4:\n",
    "        good+=1\n",
    "    if i>=3 and i<3.5:\n",
    "        fine+=1\n",
    "    if i>=2.5 and i<3:\n",
    "        ok+=1\n",
    "    if i>=2 and i<2.5:\n",
    "        nor+=1\n",
    "    if i>=1.5 and i<2:\n",
    "        poor+=1\n",
    "    if i>=1 and i<1.5:\n",
    "        bad+=1\n",
    "    if i>=0 and i<1:\n",
    "        worst+=1\n",
    "li2=[exe,vgood,good,fine,ok,nor,poor,bad,worst]\n",
    "li2"
   ]
  },
  {
   "cell_type": "code",
   "execution_count": 38,
   "metadata": {},
   "outputs": [],
   "source": [
    "\n",
    "names2 = data['location'].value_counts()[:10].index\n",
    "values2 = data['location'].value_counts()[:10].values\n",
    "names22=[]\n",
    "for i in names2:\n",
    "    names22.append(i[:5])\n",
    "\n"
   ]
  },
  {
   "cell_type": "code",
   "execution_count": 39,
   "metadata": {},
   "outputs": [
    {
     "name": "stdout",
     "output_type": "stream",
     "text": [
      "JALSA 800\n"
     ]
    }
   ],
   "source": [
    "df3=data[['name','rate','votes','rest_type','app_cost','location','address','phone','url']]\n",
    "b=np.array(df3)\n",
    "df2=data[['name','rest_type','location','app_cost','address']]\n",
    "a=np.array(df2)\n",
    "# for i in a:\n",
    "#     if i[3]>=700 and i[3]<=900:\n",
    "#         print(i[3])\n",
    "for i in b:\n",
    "    if i[0]=='JALSA':\n",
    "        print(i[0],i[4])\n",
    "        break"
   ]
  },
  {
   "cell_type": "code",
   "execution_count": 40,
   "metadata": {},
   "outputs": [
    {
     "data": {
      "text/plain": [
       "97"
      ]
     },
     "execution_count": 40,
     "metadata": {},
     "output_type": "execute_result"
    }
   ],
   "source": [
    "\n",
    "cuisines_data = data[data.cuisines.notnull()]\n",
    "cuisines_data.cuisines = cuisines_data.cuisines.apply(lambda x:x.lower().strip())\n",
    "\n",
    "cuisines_count= []\n",
    "\n",
    "for i in cuisines_data.cuisines:\n",
    "    for j in i.split(','):\n",
    "        j = j.strip()\n",
    "        cuisines_count.append(j)\n",
    "x=pd.Series(cuisines_count).value_counts()#[:10]\n",
    "x1=list(x)\n",
    "\n",
    "#lets delete the nulll values\n",
    "dishes_data = data[data.dish_liked.notnull()]\n",
    "dishes_data.dish_liked = dishes_data.dish_liked.apply(lambda x:x.lower().strip())\n",
    "# count each dish to see how many times each dish repeated\n",
    "dish_count = []\n",
    "for i in dishes_data.dish_liked:\n",
    "    for t in i.split(','):\n",
    "        t = t.strip() # remove the white spaces to get accurate results\n",
    "        dish_count.append(t)\n",
    "s=pd.Series(dish_count).value_counts()[:10]\n",
    "s1=list(s)\n",
    "t3=len(x)\n",
    "t3"
   ]
  },
  {
   "cell_type": "markdown",
   "metadata": {},
   "source": [
    "## Dash App\n",
    "\n",
    "#### Developed a Dash app to deploy the web interface, enabling hotel owners to interact with the model and check predictions by inputting parameters such as location, cuisine type, average rates for two people, and restaurant type. This helps owners make informed decisions based on tailored predictions."
   ]
  },
  {
   "cell_type": "code",
   "execution_count": 90,
   "metadata": {},
   "outputs": [],
   "source": [
    "app = dash.Dash()"
   ]
  },
  {
   "cell_type": "code",
   "execution_count": 91,
   "metadata": {},
   "outputs": [
    {
     "name": "stdout",
     "output_type": "stream",
     "text": [
      "[602 503 415 357 297 205 200 171 168 161 138 126 125 123 118]\n"
     ]
    }
   ],
   "source": [
    "axi=data.name.value_counts()[:20].index\n",
    "axv=data.name.value_counts()[:20].values\n",
    "axx = [go.Bar(\n",
    "        x=axi,\n",
    "        y=axv,\n",
    "        marker_color='#de7a73'\n",
    ")]\n",
    "\n",
    "option1=[]\n",
    "k=0\n",
    "j1=set(data['location'].values)\n",
    "for res in j1:\n",
    "    r=dict(label=str(res),value=k)\n",
    "    k=k+1\n",
    "    option1.append(r)\n",
    "k=0\n",
    "option2=[]\n",
    "j2=set(data['rest_type'].values)\n",
    "for i in j2:\n",
    "    p=dict(label=str(i),value=k)\n",
    "    k=k+1\n",
    "    option2.append(p)\n",
    "k=0\n",
    "option3=[]\n",
    "j3=set(data['app_cost'].values)\n",
    "for i in j3:\n",
    "    p=dict(label=i,value=k)\n",
    "    k=k+1\n",
    "    option3.append(p)\n",
    "\n",
    "l4=data['rate'].value_counts().index\n",
    "v4=data['rate'].value_counts().values\n",
    "l2=[]\n",
    "for i in data['name'].value_counts()[:15].index:\n",
    "    l2.append(i[:5])\n",
    "\n",
    "v2=data['app_cost'].value_counts()[:15].values\n",
    "print(v2)\n",
    "names = data['rest_type'].value_counts()[:10].index\n",
    "values = data['rest_type'].value_counts()[:10].values\n",
    "\n",
    "option=[]\n",
    "for res in data['name'].values:\n",
    "    r=dict(label=str(res),value=str(res))\n",
    "    option.append(r)\n",
    "    \n",
    "#-----------------rest_type dropdown-----------------\n",
    "optionrt=[]\n",
    "datart=data['rest_type'].unique()\n",
    "for rt in datart:\n",
    "    t=dict(label=str(rt),value=str(rt))\n",
    "    optionrt.append(t)\n",
    "    \n",
    "#-----------------Location dropdown------------------\n",
    "optionloc=[]\n",
    "dataloc=data['location'].unique()\n",
    "for loc in dataloc:\n",
    "    l=dict(label=str(loc),value=str(loc))\n",
    "    optionloc.append(l)\n",
    "\n",
    "#---------------approx cost dropdown-----------------\n",
    "optionappcost=[]\n",
    "dataappcost=data['app_cost'].unique()\n",
    "for ac in dataappcost:\n",
    "    apc=dict(label=str(ac),value=str(ac))\n",
    "    optionappcost.append(apc)\n",
    "    \n",
    "#-----graph---------------\n",
    "data1=[go.Bar(\n",
    "        x=['Yes','No'],\n",
    "        y=li ,\n",
    "        marker_color=['#66fac6','#fa8eaf']),\n",
    "             \n",
    "     ]\n",
    "data2=[go.Bar(\n",
    "        x=['Yes','No'],\n",
    "        y=li2,\n",
    "        marker_color=['cyan','plum']),\n",
    "             \n",
    "     ]\n",
    "\n",
    "data4=[go.Scatter(\n",
    "        x=v4,y=l4,mode='lines+markers',name='ratings',\n",
    "        marker_color='mistyrose'\n",
    ")]\n",
    "\n",
    "external_stylesheets = ['https://codepen.io/chriddyp/pen/bWLwgP.css']\n",
    "\n",
    "app = dash.Dash(__name__, external_stylesheets=external_stylesheets)\n",
    "\n",
    "app.layout = html.Div([\n",
    "      html.Div([\n",
    "            html.H2(children=\"foodopia\",className=\"appht\",style={\n",
    "    'color':'#66e39a','display':'inline-block'\n",
    "    \n",
    "            }),\n",
    "               html.Img(src=\"/assets/fff.png\",className=\"photo\",style={\n",
    "                   'position':'relative',\n",
    "                   'float':'left',\n",
    "                   'left':'2px',\n",
    "                   'display':'inline-block',\n",
    "                   \n",
    "               })\n",
    "                   ],style={\n",
    "          \n",
    "      }),\n",
    "    html.Div(className=\"li\"),\n",
    "    html.Div(className=\"li\"),\n",
    "    html.Div(className='gap'),\n",
    "   \n",
    "    html.Div(children=\"Search Your Favourite Restaurants!\",style={'backgroundColor':'#f0f1f2','color':'darkslategray','width':'34%','text-align':'center'}),\n",
    "    html.Br(),\n",
    "    html.Div(className='gap2'),\n",
    "    html.Div([\n",
    "       \n",
    "    dcc.Dropdown(\n",
    "        id='hotels-dropdown',\n",
    "        className='dropclass',\n",
    "        options=option,\n",
    "        value='(key-value)',\n",
    "                \n",
    "    style={\n",
    "        \n",
    "        'width':'550px','display':'inline-block'\n",
    "        \n",
    "    }),\n",
    "     html.Img(src=\"/assets/search_logo.png\",className=\"searchlogo\",style={'display':'inline-block','height':'31px','width':'34px','margin-left':'10px'}),\n",
    "    ]),\n",
    "    html.Div(className='gap'),\n",
    "     html.Div([\n",
    "     html.Div([\n",
    "         html.Div([html.Div(children=\"Total No. of Restaurents Registered:  \",className=\"box1\",\n",
    "                        style={\n",
    "                        'backgroundColor':'darkslategray',\n",
    "                        'color':'lightsteelblue',\n",
    "                        'height':'35px',\n",
    "                        'margin-left':'10px',\n",
    "                        'width':'100%',\n",
    "                        'text-align':'center',\n",
    "                        \n",
    "\n",
    "    }),\n",
    "                    html.Div(children=\"{}\".format(t1),className='box1op',style={\n",
    "                         'backgroundColor':'darkslategray',\n",
    "                        'color':'lightsteelblue',\n",
    "                        'height':'55px',\n",
    "                        'margin-left':'10px',\n",
    "                        'text-align':'center',\n",
    "                        'width':'100%',\n",
    "                    }),     \n",
    "                  ],style={\n",
    "             'display':'inline-block','width':'22%','margin-left':'65px',\n",
    "         }),\n",
    "        html.Div([html.Div(children=\"Total No. of Restaurents for Online Delivery :\",className=\"box2\",\n",
    "               style={\n",
    "                        'backgroundColor':'darkslategray',\n",
    "                        'color':'lightsteelblue',\n",
    "                        'height':'35px',\n",
    "                        'margin-left':'10px',\n",
    "                        'text-align':'center',\n",
    "                        'width':'100%',\n",
    "                        \n",
    "                                                 \n",
    "    }),\n",
    "                  html.Div(children=\"{}\".format(t2),className='box2op',style={\n",
    "                       'backgroundColor':'darkslategray',\n",
    "                        'color':'lightsteelblue',\n",
    "                        'height':'55px',\n",
    "                        'margin-left':'10px',\n",
    "                        'text-align':'center',\n",
    "                        'width':'100%',\n",
    "                  }),\n",
    "                 \n",
    "                 ],style={\n",
    "            'display':'inline-block','width':'22%','margin-left':'10px',\n",
    "        }),\n",
    "        html.Div([html.Div(children=\"Types Of Cuisines Served :\",className=\"box3\",\n",
    "                        style={\n",
    "                        'backgroundColor':'darkslategray',\n",
    "                        'color':'lightsteelblue',\n",
    "                        'height':'35px',\n",
    "                        'margin-left':'10px',\n",
    "                        'width':'100%',\n",
    "                        'text-align':'center',\n",
    "                        \n",
    "\n",
    "    }),\n",
    "                    html.Div(children=\"{}\".format(t3),className='box3op',style={\n",
    "                         'backgroundColor':'darkslategray',\n",
    "                        'color':'lightsteelblue',\n",
    "                        'height':'55px',\n",
    "                        'margin-left':'10px',\n",
    "                        'text-align':'center',\n",
    "                        'width':'100%',\n",
    "                    }),     \n",
    "                  ],style={\n",
    "             'display':'inline-block','width':'22%','margin-left':'10px',\n",
    "         }),\n",
    "         html.Div([html.Div(children=\"Number Of Locations Served :  \",className=\"box4\",\n",
    "                        style={\n",
    "                        'backgroundColor':'darkslategray',\n",
    "                        'color':'lightsteelblue',\n",
    "                        'height':'35px',\n",
    "                        'margin-left':'10px',\n",
    "                        'width':'100%',\n",
    "                        'text-align':'center',\n",
    "                        \n",
    "\n",
    "    }),\n",
    "                    html.Div(children=\"{}\".format(t4),className='box4op',style={\n",
    "                         'backgroundColor':'darkslategray',\n",
    "                        'color':'lightsteelblue',\n",
    "                        'height':'55px',\n",
    "                        'margin-left':'10px',\n",
    "                        'text-align':'center',\n",
    "                        'width':'100%',\n",
    "                    }),     \n",
    "                  ],style={\n",
    "             'display':'inline-block','margin-left':'10px','width':'22%'\n",
    "         }),\n",
    "            \n",
    "              ])\n",
    "    ]),\n",
    "    \n",
    "    html.Div(className='gap'),\n",
    "   html.Div(id='output-container',className=\"oc\",style={\n",
    "        'backgroundColor':'#bec1c2',\n",
    "        'color':'#152526',\n",
    "        'border-radius':4,\n",
    "        'width':'50%',\n",
    "       'padding-left':'15px',\n",
    "#        'padding-top':'10px',\n",
    "#        'padding-bottom':'10px'\n",
    "               \n",
    "    }),     \n",
    "    html.Div(className='gap'),\n",
    "    html.Div(className=\"li\"),\n",
    "    html.Div(className=\"li\"),\n",
    "    html.Div(className='gap'),\n",
    "    html.Div([\n",
    "        html.Div([\n",
    "    html.H1(children=\"LET ME RECOMMEND HOTELS FOR YOU!\",style={'width':'710px','text-align':'center','color':'lightsteelblue','display':'inline-block'},className=\"hrec\"),\n",
    "    html.H1(children=\"Current Top 10's!\",style={'width':'640px','text-align':'center','color':'lightsteelblue','display':'inline-block','margin-left':'120px'},className=\"hrec2\")\n",
    "            ]),\n",
    "    html.Div([\n",
    "    dcc.Dropdown(id='id1',options=optionloc,value='Enter the location',style={'width':'250px','height':'35px','margin-left':'10px','display':'inline-block'}),\n",
    "    dcc.Dropdown(id='id2',options=optionrt,value='Enter the restaurant type',style={'width':'250px','height':'35px','margin-left':'10px','display':'inline-block'}),\n",
    "    dcc.Dropdown(id='id3',options=optionappcost,value='800',style={'width':'250px','height':'35px','margin-left':'10px','display':'inline-block'})]),\n",
    "    ]),\n",
    "        html.Div(className='gap'),\n",
    "    html.Div([\n",
    "    html.Div(id='my-div',style={'width':'700px','backgroundColor':'darkslategray','color':'lightsteelblue','margin-left':'20px','display':'inline-block','padding-left':'15px'},\n",
    "             className=\"recop\"),\n",
    "    html.Div([\n",
    "    html.Div([       \n",
    "\n",
    "html.Div([\n",
    "    dcc.Dropdown(\n",
    "        id='dropdown1',\n",
    "        options=[{'label': 'Top 10 Cuisine', 'value': 'cus'} ,\n",
    "                 {'label': 'Top 10 Dishes','value': 'dish'}],\n",
    "        value='dish',\n",
    "        \n",
    "    ),\n",
    "  \n",
    "],\n",
    "style={'width': '90%', 'display': 'inline-block'}\n",
    "),\n",
    "\n",
    "html.Div(id='tablecontainer1'),\n",
    "html.Div(\n",
    "    dcc.Graph(\n",
    "        id='graph1',\n",
    "        className='dropgraph',\n",
    "        style={'width':'600px','height':'450px'}\n",
    "    ),\n",
    "    style={'display':'inline-block'}\n",
    ")\n",
    "\n",
    "],\n",
    "style={'width': '41%', 'display': 'inline-block'}\n",
    ")       \n",
    "],style={'display':'inline-block','margin-left':'100px','vertical-align':'top'})\n",
    "],style={'display':'inline-block'}),\n",
    "     html.Div(className='gap'),\n",
    "     html.Div(className='gap'),\n",
    "    html.Div(className=\"li\"),\n",
    "    html.Div(className=\"li\"),\n",
    "    html.Div(className='gap'),\n",
    "     html.Div(className='gap'),\n",
    "     html.Div([\n",
    "        html.H1(children=\"PREDICT YOUR RATING NOW!\",className=\"predrate\",style={\n",
    "            'color':'lightsteelblue','text-align':'center','margin-left':'20px','width':'35%','display':'inline-block'\n",
    "        }),\n",
    "         html.Div([\n",
    "             html.Div(children=\"Predict Rating for your upcoming Restaurants!\",style={ 'backgroundColor':'gray','margin-left':'35px','width':'50%','text-align':'center'}),\n",
    "              html.Div(className='gap'),\n",
    "             dcc.Dropdown(\n",
    "        id='d11',\n",
    "        className='dropclass',\n",
    "        options=option1,\n",
    "        value='Location',\n",
    "                \n",
    "    style={\n",
    "        \n",
    "        'width':'260px','display':'inline-block','margin-left':'20px'\n",
    "        \n",
    "    }),\n",
    "    dcc.Dropdown(\n",
    "        id='d22',\n",
    "        className='dropclass',\n",
    "        options=option2,\n",
    "        value='Restaurant Type',\n",
    "                \n",
    "    style={\n",
    "        \n",
    "        'width':'260px','display':'inline-block','margin-left':'20px'\n",
    "        \n",
    "    }),\n",
    "    dcc.Dropdown(\n",
    "        id='d33',\n",
    "        className='dropclass',\n",
    "        options=option3,\n",
    "        value='Appox. Cost',\n",
    "                \n",
    "    style={\n",
    "        \n",
    "        'width':'260px','display':'inline-block','margin-left':'20px'\n",
    "        \n",
    "    }),\n",
    "       html.Div(id='result',className=\"mlop\",style={\n",
    "           'color':\"black\",'margin-left':'40px','text-align':'center','height':'30px','padding-top':'5px'\n",
    "       }),      \n",
    "             \n",
    "         ],style={\n",
    "             'display':'inline-block','margin-left':'15px','height':'90px'\n",
    "         })\n",
    "    ],className=\"predml\"),\n",
    "     html.Div(className='gap'),\n",
    "     html.Div(className='gap'),\n",
    "    html.Div(className=\"li\"),\n",
    "    html.Div(className=\"li\"),    \n",
    "    html.Div(className='gap'),\n",
    "    html.Div([\n",
    "    html.H1(children=\"ANALYSIS\",style={'text-align':'center','color':'lightsteelblue'},className=\"ana\")]),\n",
    "    html.Div([\n",
    "    dcc.Tabs(id=\"tabs-example\", children=[\n",
    "        dcc.Tab(label='Restaurant % according to Location', value='tab-1-example',style={'backgroundColor':'darkslategray',\n",
    "                        'color':'lightsteelblue','text-align':'center','margin-left':'20px'}),\n",
    "        dcc.Tab(label='Restaurent % according to Cuisines', value='tab-2-example',style={'backgroundColor':'darkslategray',\n",
    "                        'color':'lightsteelblue','text-align':'center','margin-left':'10px'}),\n",
    "        dcc.Tab(label='Approximate cost for 2', value='tab-3-example',style={'backgroundColor':'darkslategray',\n",
    "                        'color':'lightsteelblue','text-align':'center','margin-left':'10px'}),\n",
    "        dcc.Tab(label='Table Booking & Delivery', value='tab-4-example',style={'backgroundColor':'darkslategray',\n",
    "                        'color':'lightsteelblue','text-align':'center','margin-left':'10px'}),\n",
    "        dcc.Tab(label='Number of Restaurants according to Ratings',value='tab-5',style={'backgroundColor':'darkslategray',\n",
    "                        'color':'lightsteelblue','text-align':'center','margin-left':'10px'}),\n",
    "        dcc.Tab(label='Name vs Number of Restaurants', value='tab-6-example',style={'backgroundColor':'darkslategray',\n",
    "                        'color':'lightsteelblue','text-align':'center','margin-left':'20px'}),\n",
    "       \n",
    "    ]),\n",
    "    html.Div(id='tabs-content-example',)\n",
    "]),  \n",
    "    html.Div(className='gap'),\n",
    "    html.Div([\n",
    "     \n",
    "    dcc.Graph(\n",
    "        id='linedot',\n",
    "        className='ld',\n",
    "        figure={\n",
    "            'data':[go.Scatter(x=data[\"rest_type\"],y=data[\"rate\"],mode='markers',name='markers',marker_color='#66e39a')],\n",
    "            'layout':{\n",
    "                'title':'Restaurant-Type vs Rate',\n",
    "                'paper_bgcolor': '#26332a',\n",
    "                'plot_bgcolor': '#26332a',\n",
    "                'height':'500px',\n",
    "                'font':{\n",
    "                     'color':'lightsteelblue'\n",
    "                 }\n",
    "            }\n",
    "        }\n",
    "        \n",
    "    ) \n",
    " ],style={\n",
    "     'width':'98%','display':'inline-block'\n",
    " }),\n",
    "     \n",
    "        html.Div(className='gap'),\n",
    "            html.H1(children=\"FEEDBACK:\",style={'width':'710px','color':'lightsteelblue'}),\n",
    "            dcc.Input(id='id11', value='Enter your Name', type='text',style={'width':'250px','height':'35px','margin-left':'10px'}),\n",
    "            html.Div(className='gap'),\n",
    "             html.Div([\n",
    "                 dcc.Input(id='id4', value='Comment your views!', type='text',className=\"hrec1\",style={'width':'800px','height':'100px','display':'inline-block','margin-left':'10px','padding-left':'10px'}), \n",
    "         html.Div(className='gap'),      \n",
    "        html.Div([\n",
    "            html.Div([\n",
    "        dcc.Tabs(          \n",
    "            dcc.Tab(label='Upload',value='ul',style={\n",
    "                'backgroundColor':'paleturquoise',\n",
    "                'border-radius':2,\n",
    "                'height':'50px',\n",
    "                'display':'inline-block'\n",
    "            }),\n",
    "                \n",
    "                id='tabs2',style={\n",
    "                    'width':'100%',\n",
    "                    'backgroundColor':'paleturquoise',\n",
    "                    'border-radius':2,\n",
    "                    'margin-left':'10px',\n",
    "                    'display':'inline-block'\n",
    "                    \n",
    "                }\n",
    "        )],style={'display':'inline-block'}),\n",
    "        html.Div([\n",
    "         dcc.Tabs(          \n",
    "            dcc.Tab(label='Our Team',value='team',style={\n",
    "                'backgroundColor':'paleturquoise',\n",
    "                'border-radius':2,\n",
    "                'height':'50px',\n",
    "                'display':'inline-block'\n",
    "            }),\n",
    "                \n",
    "                id='tabs3',style={\n",
    "                    'width':'160px',\n",
    "                    'backgroundColor':'paleturquoise',\n",
    "                    'border-radius':2,\n",
    "                    'margin-left':'1200px',\n",
    "                    \n",
    "                    \n",
    "                }\n",
    "        )],style={'display':'inline-block'})\n",
    "        ]),\n",
    "    ]) ,\n",
    "    html.Div(className='gap'),\n",
    "    html.Div([\n",
    "    html.Div(id=\"opupload\",style={'display':'inline-block','width':'63%','vertical-align':'top'}),\n",
    "    html.Div(id=\"opteam\",style={'display':'inline-block','width':'36%'}),\n",
    "    ]),\n",
    "        \n",
    "    html.Div(className='gap')\n",
    "])\n",
    "\n",
    "#---------------------Search bar---------------------------------\n",
    "\n",
    "@app.callback(\n",
    "    Output('output-container', 'children'),\n",
    "    [Input('hotels-dropdown', 'value')])\n",
    "def update_output(value): \n",
    "    div3=[]\n",
    "    for i in b:\n",
    "        if i[0]==value:\n",
    "            op3=html.H3('{}'.format(i[0]))\n",
    "            op4=html.H4(\"It's a  {}   (₹ {})\".format(i[3],i[4]))\n",
    "            op5=html.H4('Rate :  {}   Votes :  {}'.format(i[1],i[2])) \n",
    "            op6=html.H4('Location : {}'.format(i[5]))\n",
    "            op7=html.H4('Address : {}'.format(i[6]))\n",
    "            op8=html.H4('Call : {}'.format(i[7]))\n",
    "            op9=html.H4('Website : www.zomato/{}/.com'.format(value))\n",
    "            div3.append(op3)\n",
    "            div3.append(op4)\n",
    "            div3.append(op5)\n",
    "            div3.append(op6)\n",
    "            div3.append(op7)\n",
    "            div3.append(op8)\n",
    "            div3.append(op9)\n",
    "            break\n",
    "            \n",
    "    print(div3)\n",
    "    return div3\n",
    "\n",
    "#callback to update graph with values of dropdown 1 selecting pandas row\n",
    "@app.callback(\n",
    "Output('graph1', 'figure'), \n",
    "[Input('dropdown1', 'value')]\n",
    ")\n",
    "#graph plot and styling\n",
    "def update_graph(value):\n",
    "    if value=='cus':\n",
    "        xx=['North indian','chinese','continental','cafe','fast food','south indian','italian','desserts','biryani','beverages']\n",
    "        y1=x1\n",
    "        col='lightcoral'\n",
    "    if value=='dish':\n",
    "        xx=['pasta','burgers','cocktails','pizza','biryani','coffee','mocktails','sandwiches','paratha','noodles']\n",
    "        y1=s1\n",
    "        col='skyblue'\n",
    "    return {'data':[go.Bar(\n",
    "                            x=xx,\n",
    "                            y=y1,\n",
    "                            marker_color=col),\n",
    "\n",
    "                         ] ,\n",
    "            'layout': go.Layout(\n",
    "                        title='Top 10 cuisines',\n",
    "                        plot_bgcolor='#26332a',\n",
    "                        paper_bgcolor='#26332a',\n",
    "                        xaxis_tickangle=-17,\n",
    "                        \n",
    "                        xaxis=dict(\n",
    "                            #type='line',\n",
    "                            title='Most liked dish',\n",
    "                            showgrid=True,\n",
    "                            showline=True,\n",
    "                            color='white',\n",
    "                            linewidth=1,\n",
    "\n",
    "                        ),\n",
    "                        yaxis=dict(\n",
    "                            title= 'Count',\n",
    "                            showgrid=True,\n",
    "                            showline=True,\n",
    "                            gridcolor='#bdbdbd',\n",
    "                            color='white',\n",
    "                            linewidth=1\n",
    "                        ),\n",
    "                        margin={'l': 60, 'b': 40, 't': 30, 'r': 60},\n",
    "                        #legend={'x': 0.5, 'y': 1},\n",
    "                        hovermode='closest',\n",
    "\n",
    "                                               \n",
    "                    )    \n",
    "           }\n",
    "\n",
    "\n",
    "    \n",
    "#----------------ML-------------------\n",
    "\n",
    "@app.callback(\n",
    "    Output('result', 'children'),\n",
    "    [Input('d11', 'value'),\n",
    "     Input('d22', 'value'),\n",
    "     Input('d33', 'value')]\n",
    ")\n",
    "def update_result(x, y ,z):\n",
    "    print(x,y,z,type(x),type(y),type(z))\n",
    "    pr=rfr.predict([[x , y ,z]])\n",
    "    return \"Predicted Rating You Would Get : {}\".format(pr)\n",
    "    \n",
    "\n",
    " #-------------------Analysis------------------------------\n",
    "    \n",
    "@app.callback(Output('tabs-content-example', 'children'),\n",
    "              [Input('tabs-example', 'value')])\n",
    "\n",
    "def render_content(tab):\n",
    "    if tab == 'tab-1-example':\n",
    "        return html.Div([\n",
    "html.H3(\n",
    "    children='Restaurant % in that location',\n",
    "    style={\n",
    "        'textAlign': 'center',\n",
    "        'color': 'lightsteelblue','width':'100%'}\n",
    "),\n",
    "\n",
    "html.Div(\n",
    "    dcc.Graph(\n",
    "        id='graph4',\n",
    "        className='g4',\n",
    "        figure={\n",
    "            'data':[go.Pie(values=values2,labels=names22,marker_colors=['#66fac6','#45edb2','#10eb9e','#06cf88','#0bb579','#089c68','#078a5c','#057850','#056946','#03573a'])],\n",
    "            'layout':{\n",
    "                'title':'Percentage of Restaurants as per location',\n",
    "                'margin-left':'50px',    \n",
    "                'paper_bgcolor': '#26332a',\n",
    "                'plot_bgcolor': '#26332a',\n",
    "                'font':{\n",
    "                'color':'lightsteelblue'\n",
    "                \n",
    "                 }\n",
    "                \n",
    "            }\n",
    "        },\n",
    "\n",
    "        style={'width':'750px','height':'500px','margin-left':'400px'}\n",
    "    ),\n",
    "    style={'display':'inline-block'}\n",
    "),\n",
    "\n",
    "],\n",
    "style={'width': '30%', 'display': 'inline-block'}\n",
    " ) \n",
    "    elif tab == 'tab-2-example':\n",
    "        return  html.Div([\n",
    "html.H3(\n",
    "    children='Restaurant % according to cuisine',\n",
    "    style={\n",
    "        'textAlign': 'center',\n",
    "        'color': 'lightsteelblue','width':'100%'}\n",
    "),\n",
    "\n",
    "html.Div(\n",
    "    dcc.Graph(\n",
    "        id='graph3',\n",
    "        className='g3',\n",
    "        figure={\n",
    "            'data':[go.Pie(values=values,labels=names,marker_colors=['#fa8eaf','#f56791','#e63268','#d92359','#cc124a','#c20c42','#b5053a','#9c0532','#87042b','#6e0525'])],\n",
    "            'layout':{\n",
    "                'title':'Percentage of Restaurants',\n",
    "                'paper_bgcolor': '#26332a',\n",
    "                'plot_bgcolor': '#26332a',\n",
    "                'font':{\n",
    "                'color':'lightsteelblue'\n",
    "                \n",
    "                 }\n",
    "                \n",
    "            }\n",
    "        },\n",
    "\n",
    "        style={'width':'750px','height':'500px','margin-left':'400px'}\n",
    "    ),\n",
    "    style={'display':'inline-block'}\n",
    "),\n",
    "],\n",
    "style={'width': '30%', 'display': 'inline-block'}\n",
    " ) \n",
    "    elif tab == 'tab-3-example':\n",
    "        return html.Div([\n",
    "html.H3(\n",
    "    children='Approximate cost for 2 poeple',\n",
    "    style={\n",
    "        'textAlign': 'center',\n",
    "        'color': 'lightsteelblue','width':'100%'}\n",
    "),\n",
    "html.Div(id='tablecontainer2'),\n",
    "html.Div(\n",
    "    dcc.Graph(\n",
    "        id='graph2',\n",
    "        className='g2',\n",
    "         figure={\n",
    "            'data':[go.Pie(values=v2,labels=l2,hole=0.65,textinfo='value')],\n",
    "             'layout':{\n",
    "                 'title':'Approximate Cost For 2 people in ₹',\n",
    "                 'paper_bgcolor': '#26332a',\n",
    "                'plot_bgcolor': '#26332a',\n",
    "                 'font':{\n",
    "                'color':'lightsteelblue'\n",
    "                \n",
    "                 },\n",
    "                 \n",
    "                 \n",
    "             }\n",
    "             \n",
    "         },\n",
    "        style={'width':'850px','height':'500px','margin-left':'220px'}\n",
    "    ),\n",
    "    style={'display':'inline-block'}\n",
    "),\n",
    "\n",
    "    ],\n",
    "style={'width': '50%', 'display': 'inline-block'}\n",
    "     )\n",
    "    elif tab == 'tab-4-example':\n",
    "        return  html.Div([html.Div([\n",
    "        html.H3(\n",
    "    children='Delivery',\n",
    "    style={\n",
    "        'textAlign': 'center',\n",
    "        'color': 'lightsteelblue','width':'100%'}\n",
    "),\n",
    "        dcc.Graph(\n",
    "            id = 'figure1',\n",
    "            className='f1',\n",
    "            figure={\n",
    "            'data':data1,\n",
    "            'layout':{\n",
    "                'paper_bgcolor': '#26332a',\n",
    "                'plot_bgcolor': '#26332a',\n",
    "                'xaxis':{\n",
    "                    'title':'option',\n",
    "                },\n",
    "                'yaxis':{\n",
    "                    'title':'no. of restaurants',\n",
    "                },\n",
    "                'title':'Online Delivery Option',\n",
    "\n",
    "                'font':{\n",
    "                     'color':'lightsteelblue'\n",
    "                 }\n",
    "            }\n",
    "            }\n",
    "            \n",
    "        ),     \n",
    "    ], style= {'width': '35%', 'display': 'inline-block','margin-left':'30px'}),\n",
    "            \n",
    "              html.Div([\n",
    "        html.H3(\n",
    "    children='Table Booking',\n",
    "    style={\n",
    "        'textAlign': 'center',\n",
    "        'color': 'lightsteelblue','width':'50%'}\n",
    "),\n",
    "        dcc.Graph(\n",
    "            id='figure2',\n",
    "        className='f2',\n",
    "            figure={\n",
    "                'data':data2,\n",
    "                'layout':{\n",
    "                'paper_bgcolor': '#26332a',\n",
    "                'plot_bgcolor': '#26332a',\n",
    "                'xaxis':{\n",
    "                    'title':'option',\n",
    "                },\n",
    "                'yaxis':{\n",
    "                    'title':'no. of restaurants',\n",
    "                },\n",
    "                'title':'Table Booking Option',\n",
    "                'font':{\n",
    "                'color':'lightsteelblue'\n",
    "                \n",
    "                 }\n",
    "            }\n",
    "            }\n",
    "        )],style= {'width': '35%', 'display': 'inline-block','margin-left':'10px',}\n",
    "             )           \n",
    "            ])\n",
    "    elif tab=='tab-5':\n",
    "        return html.Div([\n",
    "        html.H3(\n",
    "    children='Ratings for Restaurants',\n",
    "    style={\n",
    "        'textAlign': 'center',\n",
    "        'color': 'lightsteelblue','width':'100%'}\n",
    "),\n",
    "        dcc.Graph(\n",
    "            id='figure3',\n",
    "            className='f3',\n",
    "            figure={\n",
    "                'data':data4,\n",
    "                'layout':{\n",
    "                'paper_bgcolor': '#26332a',\n",
    "                'title':'ratings vs no. of restaurants',\n",
    "                'plot_bgcolor': '#26332a',\n",
    "                'xaxis':{\n",
    "                    'title':'no. of hotels',\n",
    "                },\n",
    "                'yaxis':{\n",
    "                    'title':'ratings',\n",
    "                },\n",
    "                \n",
    "                 'font':{\n",
    "                     'color':'lightsteelblue'\n",
    "                 }                   \n",
    "            }\n",
    "            }\n",
    "        ), \n",
    "                                   \n",
    "    ], style={'width': '65%', 'display': 'inline-block','vertical-align':'top','margin-left':'110px'})\n",
    "    elif tab == 'tab-6-example':\n",
    "        return  html.Div([\n",
    "            html.H3(\n",
    "    children='Names vs Number of Restaurants',\n",
    "    style={\n",
    "        'textAlign': 'center',\n",
    "        'color': 'lightsteelblue','width':'100%'}\n",
    "),\n",
    "         dcc.Graph(\n",
    "            id='figure6',\n",
    "            className='f6',\n",
    "            figure={\n",
    "                'data':axx,\n",
    "                'layout':{\n",
    "                'paper_bgcolor': '#26332a',\n",
    "                'title':'Names vs Number of Restaurants',\n",
    "                'plot_bgcolor': '#26332a',\n",
    "                'xaxis':{\n",
    "                    'title':'Count',\n",
    "                },\n",
    "                'yaxis':{\n",
    "                    'title':'Restaurant Name',\n",
    "                },\n",
    "                \n",
    "                 'font':{\n",
    "                     'color':'lightsteelblue'\n",
    "                 }\n",
    "                   \n",
    "            }\n",
    "            }\n",
    "        ),   \n",
    "\n",
    "        ],style={'width': '65%', 'display': 'inline-block','vertical-align':'top','margin-left':'110px'})\n",
    "    elif tab == 'none':\n",
    "        return {'display':'none'}\n",
    "    \n",
    "#-------------Recommendation-------------------------\n",
    "\n",
    "@app.callback(\n",
    "    Output(component_id='my-div', component_property='children'),\n",
    "    [Input(component_id='id1', component_property='value')\n",
    "     ,Input(component_id='id2', component_property='value')\n",
    "     ,Input(component_id='id3', component_property='value')\n",
    "    ]\n",
    ")\n",
    "def rate_pred(val1,val2,val3):\n",
    "    q1=val1.lower()\n",
    "    q2=val2.lower()\n",
    "    q3=int(val3)\n",
    "    div1=[]\n",
    "    flag=0\n",
    "    flag1=0\n",
    "    flag2=0\n",
    "    max1=q3+100\n",
    "    min1=q3-100\n",
    "    l3=data['location']\n",
    "    l4=data['rest_type']\n",
    "    for k in l3:\n",
    "        if q1==k.lower():\n",
    "            flag1=1\n",
    "    for k in l4:\n",
    "        if q2==k.lower():\n",
    "            flag2=1\n",
    "    if flag1==1 and flag2==1:\n",
    "        for i in a:\n",
    "            if i[2].lower()==q1 and i[1].lower()==q2:\n",
    "                    if i[3]<=max1 and i[3]>=min1:\n",
    "                        opstr=\"Name :  {}    (₹ {})\".format(i[0],i[3])\n",
    "                        div1.append(html.H5(children=opstr))\n",
    "                        div1.append(html.Div(className=\"li\"))\n",
    "                        flag=1\n",
    "                        print(div1)\n",
    "                    \n",
    "        if flag==0:\n",
    "            nofound=\"No Match Found! :(\"\n",
    "            div1.append(nofound)\n",
    "        return div1\n",
    "    elif flag1==0:\n",
    "        return \"Please Enter The Location Name! :)\"\n",
    "    elif flag2==0:\n",
    "        return \"Please Enter the Restaurant Type! :)\"\n",
    "\n",
    "#----------------------uploadop--------------\n",
    "\n",
    "@app.callback(\n",
    "        Output('opupload','children'),\n",
    "        [Input('tabs2','value'),\n",
    "         Input('id4','value'),\n",
    "         Input('id11','value')]\n",
    ")\n",
    "def show_review(val1,val2,val3):\n",
    "    if val1 == 'ul':\n",
    "        return html.Div([\n",
    "            html.Div(className='gap'),\n",
    "            html.Div(className='gap'),\n",
    "            html.Div([\n",
    "            html.H4(\"Review by :\",style={\n",
    "                 'padding-left':'20px','padding-top':'10px'\n",
    "            }),\n",
    "            html.H2(\"{} :\".format(val3),style={\n",
    "                 'padding-left':'20px','padding-top':'5px'\n",
    "            }),\n",
    "            html.Div(className=\"li\",style={'width':'700px'}),\n",
    "            html.H3(\"{}\".format(val2),style={\n",
    "                'padding-left':'60px','padding-bottom':'10px'\n",
    "            })\n",
    "            ],style={\n",
    "                'margin-left':'18px',\n",
    "                'padding-left':'10px',\n",
    "                'backgroundColor':'#c6d9f7',\n",
    "              \n",
    "                \n",
    "    })\n",
    "        ])   \n",
    "\n",
    "#-------------------Our team--------------------------\n",
    "\n",
    "@app.callback(\n",
    "    Output('opteam','children'),\n",
    "    [Input('tabs3','value')]\n",
    ")\n",
    "def show_team(val1):\n",
    "    if val1 == 'team':\n",
    "        return html.Div([\n",
    "            html.Div(className='gap'),\n",
    "            html.Div(className='gap'),\n",
    "            html.Div([\n",
    "            \n",
    "            html.H2(\"Guide : Girija Chiddarwar \",style={\n",
    "                 'padding-left':'20px','padding-top':'8px'\n",
    "            }),\n",
    "            html.Div(className=\"li\",style={'width':'500px','margin-left':'5px'}),\n",
    "            html.H3(\"Team Members:\",style={\n",
    "                'padding-left':'20px'\n",
    "            }),\n",
    "            html.H2(\"Shraddha Shekhar (305109)\",style={\n",
    "                'padding-left':'20px'\n",
    "            }),\n",
    "            html.H2(\"Samiksha Shirgave (305108)\",style={\n",
    "                'padding-left':'20px'\n",
    "            }),\n",
    "            html.H2(\"Yash Chaudhari (305118)\",style={\n",
    "                'padding-left':'20px','padding-bottom':'8px'\n",
    "            }),\n",
    "            ],style={\n",
    "                'margin-left':'15px',\n",
    "                'backgroundColor':'#c6d9f7',\n",
    "                \n",
    "                \n",
    "    }) \n",
    "        ])\n",
    "\n",
    "\n"
   ]
  },
  {
   "cell_type": "code",
   "execution_count": 92,
   "metadata": {},
   "outputs": [
    {
     "name": "stdout",
     "output_type": "stream",
     "text": [
      "Dash app running on http://127.0.0.1:8881/\n"
     ]
    }
   ],
   "source": [
    "if __name__=='__main__':\n",
    "    app.run_server(port=8881, jupyter_mode=\"external\")"
   ]
  },
  {
   "cell_type": "code",
   "execution_count": null,
   "metadata": {},
   "outputs": [],
   "source": [
    "\n"
   ]
  },
  {
   "cell_type": "code",
   "execution_count": null,
   "metadata": {},
   "outputs": [],
   "source": []
  }
 ],
 "metadata": {
  "kernelspec": {
   "display_name": "Python 3 (ipykernel)",
   "language": "python",
   "name": "python3"
  },
  "language_info": {
   "codemirror_mode": {
    "name": "ipython",
    "version": 3
   },
   "file_extension": ".py",
   "mimetype": "text/x-python",
   "name": "python",
   "nbconvert_exporter": "python",
   "pygments_lexer": "ipython3",
   "version": "3.9.19"
  }
 },
 "nbformat": 4,
 "nbformat_minor": 4
}
